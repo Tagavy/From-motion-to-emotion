{
 "cells": [
  {
   "cell_type": "markdown",
   "id": "89d4bcbe-c63a-49d7-992c-48188ea36acb",
   "metadata": {},
   "source": [
    "### **Reading simple audio files**"
   ]
  },
  {
   "cell_type": "markdown",
   "id": "445103b8-9fa2-49af-84f6-58ef1cb4145b",
   "metadata": {},
   "source": [
    "source: https://www.thepythoncode.com/article/using-speech-recognition-to-convert-speech-to-text-python"
   ]
  },
  {
   "cell_type": "code",
   "execution_count": 2,
   "id": "f27ffe7e-6260-4c6b-8fff-2489d279a881",
   "metadata": {},
   "outputs": [
    {
     "name": "stdout",
     "output_type": "stream",
     "text": [
      "Collecting SpeechRecognition\n",
      "  Downloading SpeechRecognition-3.9.0-py2.py3-none-any.whl (32.8 MB)\n",
      "\u001b[2K     \u001b[90m━━━━━━━━━━━━━━━━━━━━━━━━━━━━━━━━━━━━━━━━\u001b[0m \u001b[32m32.8/32.8 MB\u001b[0m \u001b[31m3.3 MB/s\u001b[0m eta \u001b[36m0:00:00\u001b[0m00:01\u001b[0m00:01\u001b[0m\n",
      "\u001b[?25hCollecting pydub\n",
      "  Downloading pydub-0.25.1-py2.py3-none-any.whl (32 kB)\n",
      "Requirement already satisfied: requests>=2.26.0 in /Users/elyesaseidel/opt/anaconda3/lib/python3.9/site-packages (from SpeechRecognition) (2.28.1)\n",
      "Requirement already satisfied: urllib3<1.27,>=1.21.1 in /Users/elyesaseidel/opt/anaconda3/lib/python3.9/site-packages (from requests>=2.26.0->SpeechRecognition) (1.26.11)\n",
      "Requirement already satisfied: charset-normalizer<3,>=2 in /Users/elyesaseidel/opt/anaconda3/lib/python3.9/site-packages (from requests>=2.26.0->SpeechRecognition) (2.0.4)\n",
      "Requirement already satisfied: idna<4,>=2.5 in /Users/elyesaseidel/opt/anaconda3/lib/python3.9/site-packages (from requests>=2.26.0->SpeechRecognition) (3.3)\n",
      "Requirement already satisfied: certifi>=2017.4.17 in /Users/elyesaseidel/opt/anaconda3/lib/python3.9/site-packages (from requests>=2.26.0->SpeechRecognition) (2022.9.24)\n",
      "Installing collected packages: pydub, SpeechRecognition\n",
      "Successfully installed SpeechRecognition-3.9.0 pydub-0.25.1\n"
     ]
    }
   ],
   "source": [
    "#!pip3 install SpeechRecognition pydub"
   ]
  },
  {
   "cell_type": "code",
   "execution_count": 3,
   "id": "3dfff491-c23a-421c-b32b-959db9025542",
   "metadata": {},
   "outputs": [],
   "source": [
    "import speech_recognition as sr"
   ]
  },
  {
   "cell_type": "code",
   "execution_count": 4,
   "id": "3aa3fd87-0f35-40bb-bf03-1b2273dfd6d9",
   "metadata": {},
   "outputs": [],
   "source": [
    "filename = \"16-122828-0002.wav\""
   ]
  },
  {
   "cell_type": "code",
   "execution_count": 5,
   "id": "ca796f3f-93e5-4148-8472-05e345cd1885",
   "metadata": {},
   "outputs": [],
   "source": [
    "# initialize the recognizer\n",
    "r = sr.Recognizer()"
   ]
  },
  {
   "cell_type": "code",
   "execution_count": 6,
   "id": "cccfc23e-f371-45b6-835b-758bbddb4bf9",
   "metadata": {},
   "outputs": [
    {
     "name": "stdout",
     "output_type": "stream",
     "text": [
      "result2:\n",
      "{   'alternative': [   {   'confidence': 0.93603683,\n",
      "                           'transcript': \"I believe you're just talking \"\n",
      "                                         'nonsense'},\n",
      "                       {   'transcript': 'I believe you are just talking '\n",
      "                                         'nonsense'},\n",
      "                       {'transcript': 'I believe your just talking nonsense'},\n",
      "                       {   'transcript': 'I believe you were just talking '\n",
      "                                         'nonsense'}],\n",
      "    'final': True}\n",
      "I believe you're just talking nonsense\n"
     ]
    }
   ],
   "source": [
    "# open the file\n",
    "with sr.AudioFile(filename) as source:\n",
    "    # listen for the data (load audio to memory)\n",
    "    audio_data = r.record(source)\n",
    "    # recognize (convert from speech to text)\n",
    "    text = r.recognize_google(audio_data)\n",
    "    print(text)"
   ]
  },
  {
   "cell_type": "markdown",
   "id": "37eba1e1-8fee-4c7f-81e8-af72351cf409",
   "metadata": {},
   "source": [
    "### **Reading large audio files**"
   ]
  },
  {
   "cell_type": "code",
   "execution_count": 1,
   "id": "74424fb3-5a38-4881-9921-971936823080",
   "metadata": {},
   "outputs": [
    {
     "name": "stderr",
     "output_type": "stream",
     "text": [
      "/Users/elyesaseidel/opt/anaconda3/lib/python3.9/site-packages/pydub/utils.py:170: RuntimeWarning: Couldn't find ffmpeg or avconv - defaulting to ffmpeg, but may not work\n",
      "  warn(\"Couldn't find ffmpeg or avconv - defaulting to ffmpeg, but may not work\", RuntimeWarning)\n"
     ]
    }
   ],
   "source": [
    "# importing libraries \n",
    "import speech_recognition as sr \n",
    "import os \n",
    "from pydub import AudioSegment\n",
    "from pydub.silence import split_on_silence\n",
    "\n",
    "# create a speech recognition object\n",
    "r = sr.Recognizer()\n",
    "\n",
    "# a function that splits the audio file into chunks\n",
    "# and applies speech recognition\n",
    "def get_large_audio_transcription(path):\n",
    "    \"\"\"\n",
    "    Splitting the large audio file into chunks\n",
    "    and apply speech recognition on each of these chunks\n",
    "    \"\"\"\n",
    "    # open the audio file using pydub\n",
    "    sound = AudioSegment.from_wav(path)  \n",
    "    # split audio sound where silence is 700 miliseconds or more and get chunks\n",
    "    chunks = split_on_silence(sound,\n",
    "        # experiment with this value for your target audio file\n",
    "        min_silence_len = 500,\n",
    "        # adjust this per requirement\n",
    "        silence_thresh = sound.dBFS-14,\n",
    "        # keep the silence for 1 second, adjustable as well\n",
    "        keep_silence=500,\n",
    "    )\n",
    "    folder_name = \"audio-chunks\"\n",
    "    # create a directory to store the audio chunks\n",
    "    if not os.path.isdir(folder_name):\n",
    "        os.mkdir(folder_name)\n",
    "    whole_text = \"\"\n",
    "    # process each chunk \n",
    "    for i, audio_chunk in enumerate(chunks, start=1):\n",
    "        # export audio chunk and save it in\n",
    "        # the `folder_name` directory.\n",
    "        chunk_filename = os.path.join(folder_name, f\"chunk{i}.wav\")\n",
    "        audio_chunk.export(chunk_filename, format=\"wav\")\n",
    "        # recognize the chunk\n",
    "        with sr.AudioFile(chunk_filename) as source:\n",
    "            audio_listened = r.record(source)\n",
    "            # try converting it to text\n",
    "            try:\n",
    "                text = r.recognize_google(audio_listened)\n",
    "            except sr.UnknownValueError as e:\n",
    "                print(\"Error:\", str(e))\n",
    "            else:\n",
    "                text = f\"{text.capitalize()}. \"\n",
    "                print(chunk_filename, \":\", text)\n",
    "                whole_text += text\n",
    "    # return the text for all chunks detected\n",
    "    return whole_text"
   ]
  },
  {
   "cell_type": "code",
   "execution_count": 2,
   "id": "da9f6bc5-808c-43c8-a515-25e752ce0a1c",
   "metadata": {},
   "outputs": [
    {
     "name": "stdout",
     "output_type": "stream",
     "text": [
      "result2:\n",
      "{   'alternative': [   {   'confidence': 0.84238338,\n",
      "                           'transcript': 'his abode which he had fixed at '\n",
      "                                         'about 3 or country see'},\n",
      "                       {   'transcript': 'his abode which he had fixed in a '\n",
      "                                         'bowery or countryside'},\n",
      "                       {   'transcript': 'his abode which he had fixed at '\n",
      "                                         'about 3 or country seat'},\n",
      "                       {   'transcript': 'his abode which he had fixed at '\n",
      "                                         'about 3 or countryside'},\n",
      "                       {   'transcript': 'his abode which he had fixed at a '\n",
      "                                         'bowery or countryside'}],\n",
      "    'final': True}\n",
      "audio-chunks/chunk1.wav : His abode which he had fixed at about 3 or country see. \n",
      "result2:\n",
      "{   'alternative': [   {   'confidence': 0.91398591,\n",
      "                           'transcript': 'had a short distance from the city'},\n",
      "                       {'transcript': 'add a short distance from the city'},\n",
      "                       {'transcript': 'I had a short distance from the city'},\n",
      "                       {'transcript': 'Irish short distance from the city'},\n",
      "                       {'transcript': 'the short distance from the city'}],\n",
      "    'final': True}\n",
      "audio-chunks/chunk2.wav : Had a short distance from the city. \n",
      "result2:\n",
      "{   'alternative': [   {   'confidence': 0.88706136,\n",
      "                           'transcript': 'just at what is now called Dutch '\n",
      "                                         'Street'},\n",
      "                       {   'transcript': 'just that one is now called Dutch '\n",
      "                                         'Street'},\n",
      "                       {'transcript': 'just at one is now called Dutch Street'},\n",
      "                       {'transcript': 'just at 1 is now called Dutch Street'},\n",
      "                       {   'transcript': 'just that what is now called Dutch '\n",
      "                                         'Street'}],\n",
      "    'final': True}\n",
      "audio-chunks/chunk3.wav : Just at what is now called dutch street. \n",
      "result2:\n",
      "{   'alternative': [   {   'confidence': 0.93079478,\n",
      "                           'transcript': 'sooner bounded with proofs of his '\n",
      "                                         'ingenuity'},\n",
      "                       {   'transcript': 'soon abounded with proofs of his '\n",
      "                                         'ingenuity'},\n",
      "                       {   'transcript': 'sooner banded with proofs of his '\n",
      "                                         'ingenuity'},\n",
      "                       {   'transcript': 'suna bounded with proofs of his '\n",
      "                                         'ingenuity'},\n",
      "                       {   'transcript': 'soon abounded with proof sofas '\n",
      "                                         'ingenuity'}],\n",
      "    'final': True}\n",
      "audio-chunks/chunk4.wav : Sooner bounded with proofs of his ingenuity. \n",
      "result2:\n",
      "{   'alternative': [   {   'confidence': 0.88393086,\n",
      "                           'transcript': 'patterned smoke chair'},\n",
      "                       {'transcript': 'patterned smoke check'},\n",
      "                       {'transcript': 'patterned smoked chair'},\n",
      "                       {'transcript': 'patterned small chair'},\n",
      "                       {'transcript': 'patterned smoke charge'}],\n",
      "    'final': True}\n",
      "audio-chunks/chunk5.wav : Patterned smoke chair. \n",
      "result2:\n",
      "{   'alternative': [   {   'confidence': 0.89736336,\n",
      "                           'transcript': 'that require the horse to work them'},\n",
      "                       {'transcript': 'that required a horse to work them'},\n",
      "                       {'transcript': 'that required the horse to work them'},\n",
      "                       {'transcript': 'that requires a horse to work them'},\n",
      "                       {'transcript': 'that require the horse to work then'}],\n",
      "    'final': True}\n",
      "audio-chunks/chunk6.wav : That require the horse to work them. \n",
      "result2:\n",
      "{   'alternative': [   {   'confidence': 0.93194592,\n",
      "                           'transcript': 'Dutch ovens that roasted meat '\n",
      "                                         'without fire'},\n",
      "                       {   'transcript': 'Dutch ovens that roasted meet '\n",
      "                                         'without fire'},\n",
      "                       {   'transcript': 'Dutch ovens that roasted need '\n",
      "                                         'without fire'},\n",
      "                       {   'transcript': 'Dutch ovens at roasted meat without '\n",
      "                                         'fire'},\n",
      "                       {   'transcript': 'Dutch ovens at roasted meet without '\n",
      "                                         'fire'}],\n",
      "    'final': True}\n",
      "audio-chunks/chunk7.wav : Dutch ovens that roasted meat without fire. \n",
      "result2:\n",
      "{   'alternative': [   {   'confidence': 0.90059114,\n",
      "                           'transcript': 'chords that went before the horses'},\n",
      "                       {'transcript': 'cards that went before the horses'},\n",
      "                       {'transcript': 'carts that went before the horses'},\n",
      "                       {'transcript': 'courts that went before the horses'},\n",
      "                       {'transcript': 'carrots that went before the horses'}],\n",
      "    'final': True}\n",
      "audio-chunks/chunk8.wav : Chords that went before the horses. \n",
      "result2:\n",
      "{   'alternative': [   {   'confidence': 0.91930872,\n",
      "                           'transcript': 'weather cocks that turned against '\n",
      "                                         'the wind another one headed '\n",
      "                                         'contrivance'},\n",
      "                       {   'transcript': 'weather clocks that turned against '\n",
      "                                         'the wind another one headed '\n",
      "                                         'contrivance'},\n",
      "                       {   'transcript': 'weather cocks that turned against '\n",
      "                                         'the wind another one headed '\n",
      "                                         'contrivances'},\n",
      "                       {   'transcript': 'weather clocks that turned against '\n",
      "                                         'the wind another one headed '\n",
      "                                         'contrivances'},\n",
      "                       {   'transcript': 'weather cocks that turned against '\n",
      "                                         'the wind and other one headed '\n",
      "                                         'contrivances'}],\n",
      "    'final': True}\n",
      "audio-chunks/chunk9.wav : Weather cocks that turned against the wind another one headed contrivance. \n",
      "result2:\n",
      "{   'alternative': [   {   'confidence': 0.88458872,\n",
      "                           'transcript': 'the astonished in confounded or '\n",
      "                                         'beholders'},\n",
      "                       {   'transcript': \"the astonished in confounded I'll be \"\n",
      "                                         'holders'},\n",
      "                       {   'transcript': 'the astonished in confounded or B '\n",
      "                                         'holders'},\n",
      "                       {   'transcript': 'the astonished in confounded or be '\n",
      "                                         'holders'},\n",
      "                       {   'transcript': 'the astonished Inn confounded or '\n",
      "                                         'beholders'}],\n",
      "    'final': True}\n",
      "audio-chunks/chunk10.wav : The astonished in confounded or beholders. \n",
      "\n",
      "Full text: His abode which he had fixed at about 3 or country see. Had a short distance from the city. Just at what is now called dutch street. Sooner bounded with proofs of his ingenuity. Patterned smoke chair. That require the horse to work them. Dutch ovens that roasted meat without fire. Chords that went before the horses. Weather cocks that turned against the wind another one headed contrivance. The astonished in confounded or beholders. \n"
     ]
    }
   ],
   "source": [
    "path = \"7601-291468-0006.wav\"\n",
    "print(\"\\nFull text:\", get_large_audio_transcription(path))"
   ]
  },
  {
   "cell_type": "markdown",
   "id": "ce63a914-34bf-4ef9-96d0-d991dcb23703",
   "metadata": {},
   "source": [
    "### **Reading from the microphone**"
   ]
  },
  {
   "cell_type": "code",
   "execution_count": 12,
   "id": "809461c8-38c5-4f88-a371-d564df703247",
   "metadata": {},
   "outputs": [],
   "source": [
    "#brew install portaudio\n",
    "#!pip3 install pyaudio\n",
    "#import pyaudio as pa\n",
    "import speech_recognition as sr"
   ]
  },
  {
   "cell_type": "code",
   "execution_count": 13,
   "id": "8bfebe5c-f433-479d-8986-a06e73e02995",
   "metadata": {},
   "outputs": [
    {
     "name": "stdout",
     "output_type": "stream",
     "text": [
      "Please say something\n",
      "Time over, thanks\n",
      "result2:\n",
      "{   'alternative': [   {   'confidence': 0.85474348,\n",
      "                           'transcript': \"hi I'm idiot song\"},\n",
      "                       {'transcript': 'hi I made a song'},\n",
      "                       {'transcript': \"hi I'm hideous song\"},\n",
      "                       {'transcript': \"hi I'm a da song\"},\n",
      "                       {'transcript': \"hi I'm a deer song\"}],\n",
      "    'final': True}\n",
      "I think you said: hi I'm idiot song\n"
     ]
    }
   ],
   "source": [
    "# Ali's code\n",
    "r=sr.Recognizer()\n",
    "with sr.Microphone() as source:\n",
    "    print(\"Please say something\")\n",
    "    audio = r.listen(source)\n",
    "    print(\"Time over, thanks\")\n",
    "    try:\n",
    "        print(\"I think you said: \"+r.recognize_google(audio));\n",
    "    except:\n",
    "        pass"
   ]
  },
  {
   "cell_type": "code",
   "execution_count": 11,
   "id": "c7564b31-5192-4adb-ad17-274b26e5bb9a",
   "metadata": {},
   "outputs": [
    {
     "name": "stdout",
     "output_type": "stream",
     "text": [
      "Recognizing...\n",
      "result2:\n",
      "{   'alternative': [   {   'confidence': 0.9284699,\n",
      "                           'transcript': \"now it's working it's working now\"},\n",
      "                       {'transcript': \"no it's working it's working now\"},\n",
      "                       {'transcript': \"I know it's working it's working now\"},\n",
      "                       {'transcript': \"now it's working it's party now\"},\n",
      "                       {'transcript': \"now it's working it's starting now\"}],\n",
      "    'final': True}\n",
      "now it's working it's working now\n"
     ]
    }
   ],
   "source": [
    "with sr.Microphone() as source:\n",
    "    # read the audio data from the default microphone\n",
    "    audio_data = r.record(source, duration=5)\n",
    "    print(\"Recognizing...\")\n",
    "    # convert speech to text\n",
    "    text = r.recognize_google(audio_data)\n",
    "    print(text)"
   ]
  },
  {
   "cell_type": "code",
   "execution_count": null,
   "id": "7639c650-17df-432a-9756-af2638edb01c",
   "metadata": {},
   "outputs": [],
   "source": []
  }
 ],
 "metadata": {
  "kernelspec": {
   "display_name": "Python 3 (ipykernel)",
   "language": "python",
   "name": "python3"
  },
  "language_info": {
   "codemirror_mode": {
    "name": "ipython",
    "version": 3
   },
   "file_extension": ".py",
   "mimetype": "text/x-python",
   "name": "python",
   "nbconvert_exporter": "python",
   "pygments_lexer": "ipython3",
   "version": "3.9.13"
  }
 },
 "nbformat": 4,
 "nbformat_minor": 5
}
