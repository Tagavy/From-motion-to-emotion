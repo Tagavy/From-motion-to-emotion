{
 "cells": [
  {
   "cell_type": "code",
   "execution_count": 2,
   "id": "f27ffe7e-6260-4c6b-8fff-2489d279a881",
   "metadata": {},
   "outputs": [
    {
     "name": "stdout",
     "output_type": "stream",
     "text": [
      "Collecting SpeechRecognition\n",
      "  Downloading SpeechRecognition-3.9.0-py2.py3-none-any.whl (32.8 MB)\n",
      "\u001b[2K     \u001b[90m━━━━━━━━━━━━━━━━━━━━━━━━━━━━━━━━━━━━━━━━\u001b[0m \u001b[32m32.8/32.8 MB\u001b[0m \u001b[31m3.3 MB/s\u001b[0m eta \u001b[36m0:00:00\u001b[0m00:01\u001b[0m00:01\u001b[0m\n",
      "\u001b[?25hCollecting pydub\n",
      "  Downloading pydub-0.25.1-py2.py3-none-any.whl (32 kB)\n",
      "Requirement already satisfied: requests>=2.26.0 in /Users/elyesaseidel/opt/anaconda3/lib/python3.9/site-packages (from SpeechRecognition) (2.28.1)\n",
      "Requirement already satisfied: urllib3<1.27,>=1.21.1 in /Users/elyesaseidel/opt/anaconda3/lib/python3.9/site-packages (from requests>=2.26.0->SpeechRecognition) (1.26.11)\n",
      "Requirement already satisfied: charset-normalizer<3,>=2 in /Users/elyesaseidel/opt/anaconda3/lib/python3.9/site-packages (from requests>=2.26.0->SpeechRecognition) (2.0.4)\n",
      "Requirement already satisfied: idna<4,>=2.5 in /Users/elyesaseidel/opt/anaconda3/lib/python3.9/site-packages (from requests>=2.26.0->SpeechRecognition) (3.3)\n",
      "Requirement already satisfied: certifi>=2017.4.17 in /Users/elyesaseidel/opt/anaconda3/lib/python3.9/site-packages (from requests>=2.26.0->SpeechRecognition) (2022.9.24)\n",
      "Installing collected packages: pydub, SpeechRecognition\n",
      "Successfully installed SpeechRecognition-3.9.0 pydub-0.25.1\n"
     ]
    }
   ],
   "source": [
    "!pip3 install SpeechRecognition pydub"
   ]
  },
  {
   "cell_type": "code",
   "execution_count": 3,
   "id": "3dfff491-c23a-421c-b32b-959db9025542",
   "metadata": {},
   "outputs": [],
   "source": [
    "import speech_recognition as sr"
   ]
  },
  {
   "cell_type": "code",
   "execution_count": 4,
   "id": "3aa3fd87-0f35-40bb-bf03-1b2273dfd6d9",
   "metadata": {},
   "outputs": [],
   "source": [
    "filename = \"16-122828-0002.wav\""
   ]
  },
  {
   "cell_type": "code",
   "execution_count": 5,
   "id": "ca796f3f-93e5-4148-8472-05e345cd1885",
   "metadata": {},
   "outputs": [],
   "source": [
    "# initialize the recognizer\n",
    "r = sr.Recognizer()"
   ]
  },
  {
   "cell_type": "code",
   "execution_count": 6,
   "id": "cccfc23e-f371-45b6-835b-758bbddb4bf9",
   "metadata": {},
   "outputs": [
    {
     "name": "stdout",
     "output_type": "stream",
     "text": [
      "result2:\n",
      "{   'alternative': [   {   'confidence': 0.93603683,\n",
      "                           'transcript': \"I believe you're just talking \"\n",
      "                                         'nonsense'},\n",
      "                       {   'transcript': 'I believe you are just talking '\n",
      "                                         'nonsense'},\n",
      "                       {'transcript': 'I believe your just talking nonsense'},\n",
      "                       {   'transcript': 'I believe you were just talking '\n",
      "                                         'nonsense'}],\n",
      "    'final': True}\n",
      "I believe you're just talking nonsense\n"
     ]
    }
   ],
   "source": [
    "# open the file\n",
    "with sr.AudioFile(filename) as source:\n",
    "    # listen for the data (load audio to memory)\n",
    "    audio_data = r.record(source)\n",
    "    # recognize (convert from speech to text)\n",
    "    text = r.recognize_google(audio_data)\n",
    "    print(text)"
   ]
  },
  {
   "cell_type": "code",
   "execution_count": null,
   "id": "e1b48086-99ba-48d2-b561-b63343a3a03a",
   "metadata": {},
   "outputs": [],
   "source": []
  }
 ],
 "metadata": {
  "kernelspec": {
   "display_name": "Python 3 (ipykernel)",
   "language": "python",
   "name": "python3"
  },
  "language_info": {
   "codemirror_mode": {
    "name": "ipython",
    "version": 3
   },
   "file_extension": ".py",
   "mimetype": "text/x-python",
   "name": "python",
   "nbconvert_exporter": "python",
   "pygments_lexer": "ipython3",
   "version": "3.9.13"
  }
 },
 "nbformat": 4,
 "nbformat_minor": 5
}
