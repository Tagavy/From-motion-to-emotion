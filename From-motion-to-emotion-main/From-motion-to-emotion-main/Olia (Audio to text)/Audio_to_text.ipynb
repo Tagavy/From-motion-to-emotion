{
 "cells": [
  {
   "cell_type": "code",
   "execution_count": 79,
   "metadata": {
    "colab": {
     "base_uri": "https://localhost:8080/"
    },
    "id": "IeNGlDFDdfXL",
    "outputId": "981e327b-3568-4ef2-d68e-d2e6de429e31"
   },
   "outputs": [
    {
     "name": "stdout",
     "output_type": "stream",
     "text": [
      "Collecting langdetect\n",
      "  Downloading langdetect-1.0.9.tar.gz (981 kB)\n",
      "Requirement already satisfied: six in c:\\users\\olia\\anaconda3\\lib\\site-packages (from langdetect) (1.16.0)\n",
      "Building wheels for collected packages: langdetect\n",
      "  Building wheel for langdetect (setup.py): started\n",
      "  Building wheel for langdetect (setup.py): finished with status 'done'\n",
      "  Created wheel for langdetect: filename=langdetect-1.0.9-py3-none-any.whl size=993242 sha256=c2c77d6b4fbc658a250376b8637f86b9a3c4e2505d029e95433cefb43797e7ed\n",
      "  Stored in directory: c:\\users\\olia\\appdata\\local\\pip\\cache\\wheels\\d1\\c1\\d9\\7e068de779d863bc8f8fc9467d85e25cfe47fa5051fff1a1bb\n",
      "Successfully built langdetect\n",
      "Installing collected packages: langdetect\n",
      "Successfully installed langdetect-1.0.9\n"
     ]
    }
   ],
   "source": [
    "#install libraries and moduls\n",
    "# !pip install SpeechRecognition\n",
    "import speech_recognition as sr\n",
    "# !pip install pydub\n",
    "# !pip install moviePy\n",
    "from moviepy.editor import *"
   ]
  },
  {
   "cell_type": "code",
   "execution_count": 113,
   "metadata": {},
   "outputs": [],
   "source": [
    "def audio_to_text(audio, files_number):\n",
    "\n",
    "    #convert the file into wav formate\n",
    "    # when the audio is a part of video\n",
    "    if audio.split(\".\")[1] == \"mp4\":\n",
    "        i = files_number\n",
    "        audioclip = AudioFileClip(audio)\n",
    "        audioclip.write_audiofile(f\"audio_from_video{i}.wav\")\n",
    "        audio_to_be_text = (f\"audio_from_video{i}.wav\")\n",
    "        \n",
    "        # when the audio is in mp3 formate    \n",
    "    elif audio.split(\".\")[1] == \"mp3\":\n",
    "        input_audio = audio\n",
    "        # convert wav to mp3  \n",
    "        src = input_audio\n",
    "        dst = \"test.wav\"\n",
    "\n",
    "        sound = AudioSegment.from_mp3(src)\n",
    "        audio_to_be_text = sound.export(dst, format=\"wav\")\n",
    "        \n",
    "    else:\n",
    "        audio_to_be_text = audio\n",
    "        \n",
    "    #play the audio\n",
    "    from playsound import playsound\n",
    "    playsound(audio_to_be_text)\n",
    "    \n",
    "\n",
    "    # Initialize recognizer class (for recognizing the speech)\n",
    "    r = sr.Recognizer()\n",
    "\n",
    "    # Reading Audio file as source\n",
    "    # listening the audio file and store in audio_text variable\n",
    "    with sr.AudioFile(audio_to_be_text) as source:\n",
    "        audio_text = r.record(source)\n",
    "        # recoginize_() method will throw a request error if the API is unreachable, hence using exception handling\n",
    "        try:\n",
    "            # using google speech recognition\n",
    "            text = r.recognize_google(audio_text, show_all=True) # add language = 'es' as an argument if the language is not English\n",
    "            print(text)\n",
    "        except:\n",
    "            print(\"Sorry, I did not get that\")\n",
    "    "
   ]
  },
  {
   "cell_type": "code",
   "execution_count": 114,
   "metadata": {},
   "outputs": [
    {
     "name": "stdout",
     "output_type": "stream",
     "text": [
      "MoviePy - Writing audio in audio_from_video11.wav\n"
     ]
    },
    {
     "name": "stderr",
     "output_type": "stream",
     "text": [
      "                                                                    \r"
     ]
    },
    {
     "name": "stdout",
     "output_type": "stream",
     "text": [
      "MoviePy - Done.\n",
      "{'alternative': [{'transcript': 'Quattro', 'confidence': 0.23529412}, {'transcript': 'since'}, {'transcript': 'single dose'}, {'transcript': 'single price'}], 'final': True}\n"
     ]
    }
   ],
   "source": [
    "audio_to_text(\"Spanish.mp4\",11) # call the function and input the audio to convert to text"
   ]
  },
  {
   "cell_type": "code",
   "execution_count": null,
   "metadata": {},
   "outputs": [],
   "source": []
  }
 ],
 "metadata": {
  "colab": {
   "provenance": [],
   "toc_visible": true
  },
  "kernelspec": {
   "display_name": "Python 3 (ipykernel)",
   "language": "python",
   "name": "python3"
  },
  "language_info": {
   "codemirror_mode": {
    "name": "ipython",
    "version": 3
   },
   "file_extension": ".py",
   "mimetype": "text/x-python",
   "name": "python",
   "nbconvert_exporter": "python",
   "pygments_lexer": "ipython3",
   "version": "3.9.12"
  }
 },
 "nbformat": 4,
 "nbformat_minor": 4
}
